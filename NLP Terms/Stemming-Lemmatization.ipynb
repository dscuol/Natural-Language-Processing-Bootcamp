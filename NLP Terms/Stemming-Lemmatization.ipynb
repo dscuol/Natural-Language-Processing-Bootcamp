{
 "cells": [
  {
   "cell_type": "code",
   "execution_count": 4,
   "metadata": {},
   "outputs": [],
   "source": [
    "from nltk.stem import PorterStemmer\n",
    "from nltk.corpus import stopwords\n",
    "import nltk"
   ]
  },
  {
   "cell_type": "code",
   "execution_count": 11,
   "metadata": {},
   "outputs": [],
   "source": [
    "paragraph = \"\"\"I have three visions for India. In 3000 years of our history, people from all over \n",
    "               the world have come and invaded us, captured our lands, conquered our minds. \n",
    "               From Alexander onwards, the Greeks, the Turks, the Moguls, the Portuguese, the British,\n",
    "               the French, the Dutch, all of them came and looted us, took over what was ours. \n",
    "               Yet we have not done this to any other nation. We have not conquered anyone. \n",
    "               We have not grabbed their land, their culture, \n",
    "               their history and tried to enforce our way of life on them. \n",
    "               Why? Because we respect the freedom of others.That is why my \n",
    "               first vision is that of freedom. I believe that India got its first vision of \n",
    "               this in 1857, when we started the War of Independence. It is this freedom that\n",
    "               we must protect and nurture and build on. If we are not free, no one will respect us.\n",
    "               My second vision for India’s development. For fifty years we have been a developing nation.\n",
    "               It is time we see ourselves as a developed nation. We are among the top 5 nations of the world\n",
    "               in terms of GDP. We have a 10 percent growth rate in most areas. Our poverty levels are falling.\n",
    "               Our achievements are being globally recognised today. Yet we lack the self-confidence to\n",
    "               see ourselves as a developed nation, self-reliant and self-assured. Isn’t this incorrect?\n",
    "               I have a third vision. India must stand up to the world. Because I believe that unless India \n",
    "               stands up to the world, no one will respect us. Only strength respects strength. We must be \n",
    "               strong not only as a military power but also as an economic power. Both must go hand-in-hand. \n",
    "               My good fortune was to have worked with three great minds. Dr. Vikram Sarabhai of the Dept. of \n",
    "               space, Professor Satish Dhawan, who succeeded him and Dr. Brahm Prakash, father of nuclear material.\n",
    "               I was lucky to have worked with all three of them closely and consider this the great opportunity of my life. \n",
    "               I see four milestones in my career\"\"\""
   ]
  },
  {
   "cell_type": "code",
   "execution_count": 12,
   "metadata": {},
   "outputs": [
    {
     "data": {
      "text/plain": [
       "['I have three visions for India.',\n",
       " 'In 3000 years of our history, people from all over \\n               the world have come and invaded us, captured our lands, conquered our minds.',\n",
       " 'From Alexander onwards, the Greeks, the Turks, the Moguls, the Portuguese, the British,\\n               the French, the Dutch, all of them came and looted us, took over what was ours.',\n",
       " 'Yet we have not done this to any other nation.',\n",
       " 'We have not conquered anyone.',\n",
       " 'We have not grabbed their land, their culture, \\n               their history and tried to enforce our way of life on them.',\n",
       " 'Why?',\n",
       " 'Because we respect the freedom of others.That is why my \\n               first vision is that of freedom.',\n",
       " 'I believe that India got its first vision of \\n               this in 1857, when we started the War of Independence.',\n",
       " 'It is this freedom that\\n               we must protect and nurture and build on.',\n",
       " 'If we are not free, no one will respect us.',\n",
       " 'My second vision for India’s development.',\n",
       " 'For fifty years we have been a developing nation.',\n",
       " 'It is time we see ourselves as a developed nation.',\n",
       " 'We are among the top 5 nations of the world\\n               in terms of GDP.',\n",
       " 'We have a 10 percent growth rate in most areas.',\n",
       " 'Our poverty levels are falling.',\n",
       " 'Our achievements are being globally recognised today.',\n",
       " 'Yet we lack the self-confidence to\\n               see ourselves as a developed nation, self-reliant and self-assured.',\n",
       " 'Isn’t this incorrect?',\n",
       " 'I have a third vision.',\n",
       " 'India must stand up to the world.',\n",
       " 'Because I believe that unless India \\n               stands up to the world, no one will respect us.',\n",
       " 'Only strength respects strength.',\n",
       " 'We must be \\n               strong not only as a military power but also as an economic power.',\n",
       " 'Both must go hand-in-hand.',\n",
       " 'My good fortune was to have worked with three great minds.',\n",
       " 'Dr. Vikram Sarabhai of the Dept.',\n",
       " 'of \\n               space, Professor Satish Dhawan, who succeeded him and Dr. Brahm Prakash, father of nuclear material.',\n",
       " 'I was lucky to have worked with all three of them closely and consider this the great opportunity of my life.',\n",
       " 'I see four milestones in my career']"
      ]
     },
     "execution_count": 12,
     "metadata": {},
     "output_type": "execute_result"
    }
   ],
   "source": [
    "sentences = nltk.sent_tokenize(paragraph)\n",
    "sentences"
   ]
  },
  {
   "cell_type": "code",
   "execution_count": 7,
   "metadata": {},
   "outputs": [
    {
     "data": {
      "text/plain": [
       "31"
      ]
     },
     "execution_count": 7,
     "metadata": {},
     "output_type": "execute_result"
    }
   ],
   "source": [
    "len(sentences)"
   ]
  },
  {
   "cell_type": "code",
   "execution_count": 9,
   "metadata": {},
   "outputs": [],
   "source": [
    "stemmer = PorterStemmer()"
   ]
  },
  {
   "cell_type": "code",
   "execution_count": 10,
   "metadata": {},
   "outputs": [
    {
     "data": {
      "text/plain": [
       "['Ithreevisionindia.',\n",
       " 'In3000yearhistori,peoplworldcomeinvadus,capturland,conquermind.',\n",
       " 'fromalexandonward,greek,turk,mogul,portugues,british,french,dutch,camelootus,took.',\n",
       " 'yetdonenation.',\n",
       " 'Weconqueranyon.',\n",
       " 'Wegrabland,cultur,historitrienforcwaylife.',\n",
       " 'whi?',\n",
       " 'becausrespectfreedomothers.thatfirstvisionfreedom.',\n",
       " 'Ibelievindiagotfirstvision1857,startwarindepend.',\n",
       " 'Itfreedommustprotectnurturbuild.',\n",
       " 'Iffree,onerespectus.',\n",
       " 'Mysecondvisionindia’develop.',\n",
       " 'forfiftiyeardevelopnation.',\n",
       " 'Ittimeseedevelopnation.',\n",
       " 'Weamongtop5nationworldtermgdp.',\n",
       " 'We10percentgrowthratearea.',\n",
       " 'ourpovertilevelfall.',\n",
       " 'ourachievglobalrecognistoday.',\n",
       " 'yetlackself-confidseedevelopnation,self-reliself-assur.',\n",
       " 'isn’incorrect?',\n",
       " 'Ithirdvision.',\n",
       " 'indiamuststandworld.',\n",
       " 'becausIbelievunlessindiastandworld,onerespectus.',\n",
       " 'onlistrengthrespectstrength.',\n",
       " 'Wemuststrongmilitaripoweralsoeconompower.',\n",
       " 'bothmustgohand-in-hand.',\n",
       " 'Mygoodfortunworkthreegreatmind.',\n",
       " 'dr.vikramsarabhaidept.',\n",
       " 'space,professorsatishdhawan,succeeddr.brahmprakash,fathernuclearmateri.',\n",
       " 'Iluckiworkthreecloseconsidgreatopportunlife.',\n",
       " 'Iseefourmilestoncareer']"
      ]
     },
     "execution_count": 10,
     "metadata": {},
     "output_type": "execute_result"
    }
   ],
   "source": [
    "for i in range(len(sentences)):\n",
    "    words = nltk.word_tokenize(sentences[i])\n",
    "    words = [stemmer.stem(word) for word in words if word not in set(stopwords.words('english'))]\n",
    "    sentences[i] = ''.join(words)\n",
    "sentences"
   ]
  },
  {
   "cell_type": "markdown",
   "metadata": {},
   "source": [
    "## Lemmatization"
   ]
  },
  {
   "cell_type": "code",
   "execution_count": 13,
   "metadata": {},
   "outputs": [
    {
     "data": {
      "text/plain": [
       "['IthreevisionIndia.',\n",
       " 'In3000yearhistory,peopleworldcomeinvadedu,capturedland,conqueredmind.',\n",
       " 'FromAlexanderonwards,Greeks,Turks,Moguls,Portuguese,British,French,Dutch,camelootedu,took.',\n",
       " 'Yetdonenation.',\n",
       " 'Weconqueredanyone.',\n",
       " 'Wegrabbedland,culture,historytriedenforcewaylife.',\n",
       " 'Why?',\n",
       " 'Becauserespectfreedomothers.Thatfirstvisionfreedom.',\n",
       " 'IbelieveIndiagotfirstvision1857,startedWarIndependence.',\n",
       " 'Itfreedommustprotectnurturebuild.',\n",
       " 'Iffree,onerespectu.',\n",
       " 'MysecondvisionIndia’development.',\n",
       " 'Forfiftyyeardevelopingnation.',\n",
       " 'Ittimeseedevelopednation.',\n",
       " 'Weamongtop5nationworldtermGDP.',\n",
       " 'We10percentgrowthratearea.',\n",
       " 'Ourpovertylevelfalling.',\n",
       " 'Ourachievementgloballyrecognisedtoday.',\n",
       " 'Yetlackself-confidenceseedevelopednation,self-reliantself-assured.',\n",
       " 'Isn’incorrect?',\n",
       " 'Ithirdvision.',\n",
       " 'Indiamuststandworld.',\n",
       " 'BecauseIbelieveunlessIndiastandworld,onerespectu.',\n",
       " 'Onlystrengthrespectstrength.',\n",
       " 'Wemuststrongmilitarypoweralsoeconomicpower.',\n",
       " 'Bothmustgohand-in-hand.',\n",
       " 'Mygoodfortuneworkedthreegreatmind.',\n",
       " 'Dr.VikramSarabhaiDept.',\n",
       " 'space,ProfessorSatishDhawan,succeededDr.BrahmPrakash,fathernuclearmaterial.',\n",
       " 'Iluckyworkedthreecloselyconsidergreatopportunitylife.',\n",
       " 'Iseefourmilestonecareer']"
      ]
     },
     "execution_count": 13,
     "metadata": {},
     "output_type": "execute_result"
    }
   ],
   "source": [
    "from nltk.stem import WordNetLemmatizer\n",
    "\n",
    "lemma = WordNetLemmatizer()\n",
    "\n",
    "for i in range(len(sentences)):\n",
    "    words = nltk.word_tokenize(sentences[i])\n",
    "    words = [lemma.lemmatize(word) for word in words if word not in set(stopwords.words('english'))]\n",
    "    sentences[i] = ''.join(words)\n",
    "sentences"
   ]
  },
  {
   "cell_type": "code",
   "execution_count": null,
   "metadata": {},
   "outputs": [],
   "source": []
  }
 ],
 "metadata": {
  "kernelspec": {
   "display_name": "Python 3",
   "language": "python",
   "name": "python3"
  },
  "language_info": {
   "codemirror_mode": {
    "name": "ipython",
    "version": 3
   },
   "file_extension": ".py",
   "mimetype": "text/x-python",
   "name": "python",
   "nbconvert_exporter": "python",
   "pygments_lexer": "ipython3",
   "version": "3.7.8"
  }
 },
 "nbformat": 4,
 "nbformat_minor": 4
}
