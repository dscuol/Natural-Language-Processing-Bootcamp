{
 "cells": [
  {
   "cell_type": "markdown",
   "metadata": {},
   "source": [
    "# Datatype"
   ]
  },
  {
   "cell_type": "code",
   "execution_count": 3,
   "metadata": {},
   "outputs": [],
   "source": [
    "myset = {'apple','orange','cherry'}\n",
    "myset2 = {'mango','pineapple','fruit'}"
   ]
  },
  {
   "cell_type": "code",
   "execution_count": 2,
   "metadata": {},
   "outputs": [
    {
     "name": "stdout",
     "output_type": "stream",
     "text": [
      "<class 'set'>\n"
     ]
    }
   ],
   "source": [
    "print(type(myset))"
   ]
  },
  {
   "cell_type": "code",
   "execution_count": 4,
   "metadata": {},
   "outputs": [
    {
     "name": "stdout",
     "output_type": "stream",
     "text": [
      "{'cherry', 'apple', 'mango', 'orange'}\n"
     ]
    }
   ],
   "source": [
    "myset.add(\"mango\")\n",
    "\n",
    "print(myset)"
   ]
  },
  {
   "cell_type": "code",
   "execution_count": 5,
   "metadata": {},
   "outputs": [
    {
     "name": "stdout",
     "output_type": "stream",
     "text": [
      "{'cherry', 'apple', 'orange', 'pineapple', 'fruit', 'mango'}\n"
     ]
    }
   ],
   "source": [
    "myset.update(myset2)\n",
    "\n",
    "print(myset)"
   ]
  },
  {
   "cell_type": "code",
   "execution_count": 6,
   "metadata": {},
   "outputs": [
    {
     "name": "stdout",
     "output_type": "stream",
     "text": [
      "{'cherry', 'apple', 'orange', 'fruit', 'mango'}\n"
     ]
    }
   ],
   "source": [
    "myset.remove(\"pineapple\") # this return callback\n",
    "\n",
    "print(myset)"
   ]
  },
  {
   "cell_type": "code",
   "execution_count": 7,
   "metadata": {},
   "outputs": [
    {
     "name": "stdout",
     "output_type": "stream",
     "text": [
      "{'cherry', 'apple', 'orange', 'fruit'}\n"
     ]
    }
   ],
   "source": [
    "myset.discard(\"mango\")\n",
    "\n",
    "print(myset)"
   ]
  },
  {
   "cell_type": "code",
   "execution_count": 10,
   "metadata": {},
   "outputs": [
    {
     "name": "stdout",
     "output_type": "stream",
     "text": [
      "{1, 'b', 'c', 2, 'a'}\n"
     ]
    }
   ],
   "source": [
    "set1 = {'a','b','c'}\n",
    "set2 = {1,2,'c'}\n",
    "\n",
    "print(set1.union(set2))"
   ]
  },
  {
   "cell_type": "code",
   "execution_count": 13,
   "metadata": {},
   "outputs": [],
   "source": [
    "set3 = {\"apple\",\"orange\",\"cherry\"}\n",
    "set4 = {\"apple\",\"alphabet\"}"
   ]
  },
  {
   "cell_type": "code",
   "execution_count": 15,
   "metadata": {},
   "outputs": [
    {
     "name": "stdout",
     "output_type": "stream",
     "text": [
      "{'apple'}\n"
     ]
    }
   ],
   "source": [
    "set3.intersection_update(set4)\n",
    "\n",
    "print(set3)"
   ]
  },
  {
   "cell_type": "markdown",
   "metadata": {},
   "source": [
    "# Functions"
   ]
  },
  {
   "cell_type": "code",
   "execution_count": 16,
   "metadata": {},
   "outputs": [],
   "source": [
    "# properties of first class functions:\n",
    "\n",
    "# function are instance of object type\n",
    "# you can store function in a variable\n",
    "# you can pass function inside another function\n",
    "# you can return function from another function"
   ]
  },
  {
   "cell_type": "code",
   "execution_count": 21,
   "metadata": {},
   "outputs": [
    {
     "name": "stdout",
     "output_type": "stream",
     "text": [
      "HELLO\n"
     ]
    }
   ],
   "source": [
    "# you can store function in a variable\n",
    "def hello(text):\n",
    "    return text.upper()\n",
    "\n",
    "hello2 = hello\n",
    "del hello\n",
    "print(hello2(\"Hello\"))"
   ]
  },
  {
   "cell_type": "code",
   "execution_count": 22,
   "metadata": {},
   "outputs": [
    {
     "name": "stdout",
     "output_type": "stream",
     "text": [
      "HI I M SAAD HOW ARE YOU\n",
      "hi i m saad how are you\n"
     ]
    }
   ],
   "source": [
    "# you can pass function inside another function\n",
    "def cap(text):\n",
    "    return text.upper()\n",
    "def low(text):\n",
    "    return text.lower()\n",
    "def test(fun):\n",
    "    greet = fun(\"Hi I m saad how are you\")\n",
    "    print(greet)\n",
    "\n",
    "test(cap)\n",
    "test(low)"
   ]
  },
  {
   "cell_type": "code",
   "execution_count": 23,
   "metadata": {},
   "outputs": [
    {
     "name": "stdout",
     "output_type": "stream",
     "text": [
      "25\n"
     ]
    }
   ],
   "source": [
    "# you can return function from another function\n",
    "\n",
    "def addr(x):\n",
    "    def adder(y):\n",
    "        return x+y\n",
    "    return adder\n",
    "\n",
    "add = addr(15) \n",
    "print(add(10))"
   ]
  },
  {
   "cell_type": "markdown",
   "metadata": {},
   "source": [
    "# Map Function"
   ]
  },
  {
   "cell_type": "code",
   "execution_count": 24,
   "metadata": {},
   "outputs": [
    {
     "name": "stdout",
     "output_type": "stream",
     "text": [
      "[2, 4, 6, 8]\n"
     ]
    }
   ],
   "source": [
    "def addition(n):\n",
    "    return n+n\n",
    "\n",
    "numbers = (1,2,3,4)\n",
    "result = map(addition,numbers)\n",
    "print(list(result))"
   ]
  },
  {
   "cell_type": "markdown",
   "metadata": {},
   "source": [
    "## Lamba Function"
   ]
  },
  {
   "cell_type": "code",
   "execution_count": 25,
   "metadata": {},
   "outputs": [
    {
     "name": "stdout",
     "output_type": "stream",
     "text": [
      "125\n"
     ]
    }
   ],
   "source": [
    "# normal function\n",
    "def cube(y):\n",
    "    return y*y*y\n",
    "print(cube(5))"
   ]
  },
  {
   "cell_type": "code",
   "execution_count": 29,
   "metadata": {},
   "outputs": [
    {
     "name": "stdout",
     "output_type": "stream",
     "text": [
      "125\n"
     ]
    }
   ],
   "source": [
    "# lambda function\n",
    "# lambda(y:y*y*y)\n",
    "\n",
    "result = lambda y: y*y*y\n",
    "print(result(5))"
   ]
  },
  {
   "cell_type": "code",
   "execution_count": 35,
   "metadata": {},
   "outputs": [
    {
     "name": "stdout",
     "output_type": "stream",
     "text": [
      "ahmad\n"
     ]
    }
   ],
   "source": [
    "# args and kwargs\n",
    "def function(*args):\n",
    "    print(args[2])\n",
    "    \n",
    "function('saad','ubaid','ahmad')"
   ]
  },
  {
   "cell_type": "code",
   "execution_count": 38,
   "metadata": {},
   "outputs": [
    {
     "name": "stdout",
     "output_type": "stream",
     "text": [
      "ubaid\n"
     ]
    }
   ],
   "source": [
    "def function(**kwargs):\n",
    "    print(kwargs['lname'])\n",
    "    \n",
    "function(fname='saad',lname='ubaid')"
   ]
  },
  {
   "cell_type": "markdown",
   "metadata": {},
   "source": [
    "# Class And Objects"
   ]
  },
  {
   "cell_type": "code",
   "execution_count": 1,
   "metadata": {},
   "outputs": [
    {
     "name": "stdout",
     "output_type": "stream",
     "text": [
      "saad\n",
      "20\n"
     ]
    }
   ],
   "source": [
    "class Person:\n",
    "    def __init__(self,name,age):\n",
    "        self.name = name\n",
    "        self.age = age\n",
    "\n",
    "p1 = Person(\"saad\",20)\n",
    "print(p1.name)\n",
    "print(p1.age)"
   ]
  },
  {
   "cell_type": "code",
   "execution_count": 4,
   "metadata": {},
   "outputs": [
    {
     "name": "stdout",
     "output_type": "stream",
     "text": [
      "saad\n",
      "20\n",
      "My name is saad\n"
     ]
    }
   ],
   "source": [
    "class Person:\n",
    "    def __init__(obj,name,age):\n",
    "        obj.name = name\n",
    "        obj.age = age\n",
    "    \n",
    "    def myname(abc):\n",
    "        print(\"My name is \"+abc.name)\n",
    "\n",
    "p1 = Person(\"saad\",20)\n",
    "print(p1.name)\n",
    "print(p1.age)\n",
    "p1.myname()"
   ]
  },
  {
   "cell_type": "markdown",
   "metadata": {},
   "source": [
    "# List Comprehensions"
   ]
  },
  {
   "cell_type": "code",
   "execution_count": 5,
   "metadata": {},
   "outputs": [
    {
     "name": "stdout",
     "output_type": "stream",
     "text": [
      "[0, 2, 4, 6, 8, 10, 12, 14, 16, 18, 20, 22, 24, 26, 28, 30, 32, 34, 36, 38, 40, 42, 44, 46, 48, 50, 52, 54, 56, 58, 60, 62, 64, 66, 68, 70, 72, 74, 76, 78, 80, 82, 84, 86, 88, 90, 92, 94, 96, 98]\n"
     ]
    }
   ],
   "source": [
    "ls = []\n",
    "for i in range(100):\n",
    "    if i%2==0:\n",
    "        ls.append(i)\n",
    "print(ls)"
   ]
  },
  {
   "cell_type": "code",
   "execution_count": 6,
   "metadata": {},
   "outputs": [],
   "source": [
    "ls = [i for i in range(100) if i%2==0]"
   ]
  },
  {
   "cell_type": "code",
   "execution_count": 8,
   "metadata": {},
   "outputs": [
    {
     "name": "stdout",
     "output_type": "stream",
     "text": [
      "[0, 2, 4, 6, 8, 10, 12, 14, 16, 18, 20, 22, 24, 26, 28, 30, 32, 34, 36, 38, 40, 42, 44, 46, 48, 50, 52, 54, 56, 58, 60, 62, 64, 66, 68, 70, 72, 74, 76, 78, 80, 82, 84, 86, 88, 90, 92, 94, 96, 98]\n"
     ]
    }
   ],
   "source": [
    "print(ls)"
   ]
  },
  {
   "cell_type": "markdown",
   "metadata": {},
   "source": [
    "# Dictionary Comprehensions"
   ]
  },
  {
   "cell_type": "code",
   "execution_count": 9,
   "metadata": {},
   "outputs": [],
   "source": [
    "dict1 = {\"saad\":20}"
   ]
  },
  {
   "cell_type": "code",
   "execution_count": 12,
   "metadata": {},
   "outputs": [
    {
     "name": "stdout",
     "output_type": "stream",
     "text": [
      "<class 'dict'>\n"
     ]
    }
   ],
   "source": [
    "print(type(dict1))"
   ]
  },
  {
   "cell_type": "code",
   "execution_count": 14,
   "metadata": {},
   "outputs": [
    {
     "name": "stdout",
     "output_type": "stream",
     "text": [
      "{0: 'item no 0', 100: 'item no 100', 200: 'item no 200', 300: 'item no 300', 400: 'item no 400', 500: 'item no 500', 600: 'item no 600', 700: 'item no 700', 800: 'item no 800', 900: 'item no 900', 1000: 'item no 1000', 1100: 'item no 1100', 1200: 'item no 1200', 1300: 'item no 1300', 1400: 'item no 1400', 1500: 'item no 1500', 1600: 'item no 1600', 1700: 'item no 1700', 1800: 'item no 1800', 1900: 'item no 1900', 2000: 'item no 2000', 2100: 'item no 2100', 2200: 'item no 2200', 2300: 'item no 2300', 2400: 'item no 2400', 2500: 'item no 2500', 2600: 'item no 2600', 2700: 'item no 2700', 2800: 'item no 2800', 2900: 'item no 2900', 3000: 'item no 3000', 3100: 'item no 3100', 3200: 'item no 3200', 3300: 'item no 3300', 3400: 'item no 3400', 3500: 'item no 3500', 3600: 'item no 3600', 3700: 'item no 3700', 3800: 'item no 3800', 3900: 'item no 3900', 4000: 'item no 4000', 4100: 'item no 4100', 4200: 'item no 4200', 4300: 'item no 4300', 4400: 'item no 4400', 4500: 'item no 4500', 4600: 'item no 4600', 4700: 'item no 4700', 4800: 'item no 4800', 4900: 'item no 4900', 5000: 'item no 5000', 5100: 'item no 5100', 5200: 'item no 5200', 5300: 'item no 5300', 5400: 'item no 5400', 5500: 'item no 5500', 5600: 'item no 5600', 5700: 'item no 5700', 5800: 'item no 5800', 5900: 'item no 5900', 6000: 'item no 6000', 6100: 'item no 6100', 6200: 'item no 6200', 6300: 'item no 6300', 6400: 'item no 6400', 6500: 'item no 6500', 6600: 'item no 6600', 6700: 'item no 6700', 6800: 'item no 6800', 6900: 'item no 6900', 7000: 'item no 7000', 7100: 'item no 7100', 7200: 'item no 7200', 7300: 'item no 7300', 7400: 'item no 7400', 7500: 'item no 7500', 7600: 'item no 7600', 7700: 'item no 7700', 7800: 'item no 7800', 7900: 'item no 7900', 8000: 'item no 8000', 8100: 'item no 8100', 8200: 'item no 8200', 8300: 'item no 8300', 8400: 'item no 8400', 8500: 'item no 8500', 8600: 'item no 8600', 8700: 'item no 8700', 8800: 'item no 8800', 8900: 'item no 8900', 9000: 'item no 9000', 9100: 'item no 9100', 9200: 'item no 9200', 9300: 'item no 9300', 9400: 'item no 9400', 9500: 'item no 9500', 9600: 'item no 9600', 9700: 'item no 9700', 9800: 'item no 9800', 9900: 'item no 9900', 10000: 'item no 10000'}\n"
     ]
    }
   ],
   "source": [
    "dict1 = {i:f\"item no {i}\" for i in range(10001) if i%100==0}\n",
    "print(dict1)"
   ]
  },
  {
   "cell_type": "code",
   "execution_count": 15,
   "metadata": {},
   "outputs": [
    {
     "name": "stdout",
     "output_type": "stream",
     "text": [
      "{'item no 0': 0, 'item no 100': 100, 'item no 200': 200, 'item no 300': 300, 'item no 400': 400, 'item no 500': 500, 'item no 600': 600, 'item no 700': 700, 'item no 800': 800, 'item no 900': 900, 'item no 1000': 1000, 'item no 1100': 1100, 'item no 1200': 1200, 'item no 1300': 1300, 'item no 1400': 1400, 'item no 1500': 1500, 'item no 1600': 1600, 'item no 1700': 1700, 'item no 1800': 1800, 'item no 1900': 1900, 'item no 2000': 2000, 'item no 2100': 2100, 'item no 2200': 2200, 'item no 2300': 2300, 'item no 2400': 2400, 'item no 2500': 2500, 'item no 2600': 2600, 'item no 2700': 2700, 'item no 2800': 2800, 'item no 2900': 2900, 'item no 3000': 3000, 'item no 3100': 3100, 'item no 3200': 3200, 'item no 3300': 3300, 'item no 3400': 3400, 'item no 3500': 3500, 'item no 3600': 3600, 'item no 3700': 3700, 'item no 3800': 3800, 'item no 3900': 3900, 'item no 4000': 4000, 'item no 4100': 4100, 'item no 4200': 4200, 'item no 4300': 4300, 'item no 4400': 4400, 'item no 4500': 4500, 'item no 4600': 4600, 'item no 4700': 4700, 'item no 4800': 4800, 'item no 4900': 4900, 'item no 5000': 5000, 'item no 5100': 5100, 'item no 5200': 5200, 'item no 5300': 5300, 'item no 5400': 5400, 'item no 5500': 5500, 'item no 5600': 5600, 'item no 5700': 5700, 'item no 5800': 5800, 'item no 5900': 5900, 'item no 6000': 6000, 'item no 6100': 6100, 'item no 6200': 6200, 'item no 6300': 6300, 'item no 6400': 6400, 'item no 6500': 6500, 'item no 6600': 6600, 'item no 6700': 6700, 'item no 6800': 6800, 'item no 6900': 6900, 'item no 7000': 7000, 'item no 7100': 7100, 'item no 7200': 7200, 'item no 7300': 7300, 'item no 7400': 7400, 'item no 7500': 7500, 'item no 7600': 7600, 'item no 7700': 7700, 'item no 7800': 7800, 'item no 7900': 7900, 'item no 8000': 8000, 'item no 8100': 8100, 'item no 8200': 8200, 'item no 8300': 8300, 'item no 8400': 8400, 'item no 8500': 8500, 'item no 8600': 8600, 'item no 8700': 8700, 'item no 8800': 8800, 'item no 8900': 8900, 'item no 9000': 9000, 'item no 9100': 9100, 'item no 9200': 9200, 'item no 9300': 9300, 'item no 9400': 9400, 'item no 9500': 9500, 'item no 9600': 9600, 'item no 9700': 9700, 'item no 9800': 9800, 'item no 9900': 9900, 'item no 10000': 10000}\n"
     ]
    }
   ],
   "source": [
    "dict2 = {value:key for key,value in dict1.items()}\n",
    "print(dict2)"
   ]
  },
  {
   "cell_type": "markdown",
   "metadata": {},
   "source": [
    "# File Handling "
   ]
  },
  {
   "cell_type": "code",
   "execution_count": 23,
   "metadata": {},
   "outputs": [],
   "source": [
    "f = open(\"new.txt\",\"w\")\n",
    "f.write(\"Hello from Python\")\n",
    "f.close()"
   ]
  },
  {
   "cell_type": "code",
   "execution_count": 20,
   "metadata": {},
   "outputs": [
    {
     "name": "stdout",
     "output_type": "stream",
     "text": [
      "Hello from Python\n"
     ]
    }
   ],
   "source": [
    "f = open(\"new.txt\",\"r\")\n",
    "print(f.read())"
   ]
  },
  {
   "cell_type": "code",
   "execution_count": 21,
   "metadata": {},
   "outputs": [],
   "source": [
    "f = open(\"new.txt\",\"a\")\n",
    "f.write(\"Some more content\")\n",
    "f.close()"
   ]
  },
  {
   "cell_type": "code",
   "execution_count": 22,
   "metadata": {},
   "outputs": [
    {
     "name": "stdout",
     "output_type": "stream",
     "text": [
      "Hello from PythonSome more content\n"
     ]
    }
   ],
   "source": [
    "f = open(\"new.txt\",\"r\")\n",
    "print(f.read())"
   ]
  },
  {
   "cell_type": "code",
   "execution_count": 24,
   "metadata": {},
   "outputs": [
    {
     "ename": "PermissionError",
     "evalue": "[WinError 32] The process cannot access the file because it is being used by another process: 'new.txt'",
     "output_type": "error",
     "traceback": [
      "\u001b[1;31m---------------------------------------------------------------------------\u001b[0m",
      "\u001b[1;31mPermissionError\u001b[0m                           Traceback (most recent call last)",
      "\u001b[1;32m<ipython-input-24-faeb2bdd4477>\u001b[0m in \u001b[0;36m<module>\u001b[1;34m\u001b[0m\n\u001b[0;32m      1\u001b[0m \u001b[1;32mimport\u001b[0m \u001b[0mos\u001b[0m\u001b[1;33m\u001b[0m\u001b[1;33m\u001b[0m\u001b[0m\n\u001b[0;32m      2\u001b[0m \u001b[1;32mif\u001b[0m \u001b[1;33m(\u001b[0m\u001b[0mos\u001b[0m\u001b[1;33m.\u001b[0m\u001b[0mpath\u001b[0m\u001b[1;33m.\u001b[0m\u001b[0mexists\u001b[0m\u001b[1;33m(\u001b[0m\u001b[1;34m\"new.txt\"\u001b[0m\u001b[1;33m)\u001b[0m\u001b[1;33m)\u001b[0m\u001b[1;33m:\u001b[0m\u001b[1;33m\u001b[0m\u001b[1;33m\u001b[0m\u001b[0m\n\u001b[1;32m----> 3\u001b[1;33m     \u001b[0mos\u001b[0m\u001b[1;33m.\u001b[0m\u001b[0mremove\u001b[0m\u001b[1;33m(\u001b[0m\u001b[1;34m\"new.txt\"\u001b[0m\u001b[1;33m)\u001b[0m\u001b[1;33m\u001b[0m\u001b[1;33m\u001b[0m\u001b[0m\n\u001b[0m\u001b[0;32m      4\u001b[0m \u001b[1;32melse\u001b[0m\u001b[1;33m:\u001b[0m\u001b[1;33m\u001b[0m\u001b[1;33m\u001b[0m\u001b[0m\n\u001b[0;32m      5\u001b[0m     \u001b[0mprint\u001b[0m\u001b[1;33m(\u001b[0m\u001b[1;34m\"File does not exit\"\u001b[0m\u001b[1;33m)\u001b[0m\u001b[1;33m\u001b[0m\u001b[1;33m\u001b[0m\u001b[0m\n",
      "\u001b[1;31mPermissionError\u001b[0m: [WinError 32] The process cannot access the file because it is being used by another process: 'new.txt'"
     ]
    }
   ],
   "source": [
    "import os\n",
    "if (os.path.exists(\"new.txt\")):\n",
    "    os.remove(\"new.txt\")\n",
    "else:\n",
    "    print(\"File does not exit\")"
   ]
  },
  {
   "cell_type": "markdown",
   "metadata": {},
   "source": [
    "# Decorators and Generators"
   ]
  },
  {
   "cell_type": "code",
   "execution_count": 29,
   "metadata": {},
   "outputs": [],
   "source": [
    "\"\"\"\n",
    "Iterable - __iter__() or __getitem__()\n",
    "Iterator - __next__()\n",
    "Iteration\n",
    "\"\"\"\n",
    "\n",
    "ls = ['cherry', 'apple', 'mango', 'orange']\n",
    "myiter = iter(ls)"
   ]
  },
  {
   "cell_type": "code",
   "execution_count": 33,
   "metadata": {},
   "outputs": [
    {
     "name": "stdout",
     "output_type": "stream",
     "text": [
      "orange\n"
     ]
    }
   ],
   "source": [
    "print(next(myiter))"
   ]
  },
  {
   "cell_type": "code",
   "execution_count": 36,
   "metadata": {},
   "outputs": [],
   "source": [
    "def forEach(n):\n",
    "    for i in range(n):\n",
    "        yield i\n",
    "        \n",
    "obj = forEach(5)"
   ]
  },
  {
   "cell_type": "code",
   "execution_count": 42,
   "metadata": {},
   "outputs": [
    {
     "ename": "StopIteration",
     "evalue": "",
     "output_type": "error",
     "traceback": [
      "\u001b[1;31m---------------------------------------------------------------------------\u001b[0m",
      "\u001b[1;31mStopIteration\u001b[0m                             Traceback (most recent call last)",
      "\u001b[1;32m<ipython-input-42-787d3292266e>\u001b[0m in \u001b[0;36m<module>\u001b[1;34m\u001b[0m\n\u001b[1;32m----> 1\u001b[1;33m \u001b[0mprint\u001b[0m\u001b[1;33m(\u001b[0m\u001b[0mobj\u001b[0m\u001b[1;33m.\u001b[0m\u001b[0m__next__\u001b[0m\u001b[1;33m(\u001b[0m\u001b[1;33m)\u001b[0m\u001b[1;33m)\u001b[0m\u001b[1;33m\u001b[0m\u001b[1;33m\u001b[0m\u001b[0m\n\u001b[0m",
      "\u001b[1;31mStopIteration\u001b[0m: "
     ]
    }
   ],
   "source": [
    "print(obj.__next__())"
   ]
  },
  {
   "cell_type": "code",
   "execution_count": 43,
   "metadata": {},
   "outputs": [],
   "source": [
    "def fun1(fun2):\n",
    "    def exe():\n",
    "        print(\"Executing now\")\n",
    "        fun2()\n",
    "        print(\"Executed\")\n",
    "    return exe"
   ]
  },
  {
   "cell_type": "code",
   "execution_count": 47,
   "metadata": {},
   "outputs": [],
   "source": [
    "@fun1\n",
    "def myname():\n",
    "    print(\"My name is saad\")"
   ]
  },
  {
   "cell_type": "code",
   "execution_count": 48,
   "metadata": {},
   "outputs": [
    {
     "name": "stdout",
     "output_type": "stream",
     "text": [
      "Executing now\n",
      "My name is saad\n",
      "Executed\n"
     ]
    }
   ],
   "source": [
    "myname()"
   ]
  }
 ],
 "metadata": {
  "kernelspec": {
   "display_name": "Python 3",
   "language": "python",
   "name": "python3"
  },
  "language_info": {
   "codemirror_mode": {
    "name": "ipython",
    "version": 3
   },
   "file_extension": ".py",
   "mimetype": "text/x-python",
   "name": "python",
   "nbconvert_exporter": "python",
   "pygments_lexer": "ipython3",
   "version": "3.7.8"
  }
 },
 "nbformat": 4,
 "nbformat_minor": 4
}
